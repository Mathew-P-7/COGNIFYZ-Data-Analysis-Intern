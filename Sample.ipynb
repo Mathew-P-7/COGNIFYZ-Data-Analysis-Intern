{
 "cells": [
  {
   "cell_type": "code",
   "execution_count": 2,
   "id": "39dcc2e4-c789-4b94-a6af-50f89f1a0f3a",
   "metadata": {},
   "outputs": [],
   "source": [
    "import pandas as pd"
   ]
  },
  {
   "cell_type": "code",
   "execution_count": 6,
   "id": "77e1ac70-627c-4589-afd2-25ae58711f4e",
   "metadata": {},
   "outputs": [],
   "source": [
    "df= pd.read_csv(\"Dataset .csv\")"
   ]
  }
 ],
 "metadata": {
  "kernelspec": {
   "display_name": "Python 3 (ipykernel)",
   "language": "python",
   "name": "python3"
  },
  "language_info": {
   "codemirror_mode": {
    "name": "ipython",
    "version": 3
   },
   "file_extension": ".py",
   "mimetype": "text/x-python",
   "name": "python",
   "nbconvert_exporter": "python",
   "pygments_lexer": "ipython3",
   "version": "3.11.7"
  }
 },
 "nbformat": 4,
 "nbformat_minor": 5
}
